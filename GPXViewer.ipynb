{
 "cells": [
  {
   "cell_type": "markdown",
   "metadata": {},
   "source": [
    "# OSM Experiments"
   ]
  },
  {
   "cell_type": "markdown",
   "metadata": {},
   "source": [
    "Get various entities using OSM API"
   ]
  },
  {
   "cell_type": "code",
   "execution_count": 16,
   "metadata": {},
   "outputs": [],
   "source": [
    "import gpxpy\n",
    "import gpxpy.gpx\n",
    "import numpy\n",
    "import OSMPythonTools\n",
    "import ssl\n",
    "ssl._create_default_https_context = ssl._create_unverified_context\n",
    "\n",
    "from OSMPythonTools.api import Api\n",
    "from OSMPythonTools.overpass import Overpass\n",
    "\n",
    "api = Api()\n",
    "overpass = Overpass()\n",
    "way = api.query('way/5887599')\n"
   ]
  },
  {
   "cell_type": "code",
   "execution_count": 14,
   "metadata": {},
   "outputs": [
    {
     "name": "stdout",
     "output_type": "stream",
     "text": [
      "<class 'OSMPythonTools.api.ApiResult'>\n",
      "{'architect': 'Johann Lucas von Hildebrandt', 'building': 'castle', 'castle_type': 'stately', 'castle_type:de': 'schloss', 'changing_table': 'yes', 'description:en': 'Baroque palace also housing a collection of Austrian & international paintings. Highlights: Gustav Klimt’s \"The Kiss\" and \"Judith\"', 'fee': 'yes', 'fixme': 'changing_table:location', 'historic': 'castle', 'name': 'Oberes Belvedere', 'name:de': 'Oberes Belvedere', 'name:en': 'Upper Belvedere', 'name:es': 'Alto Belvedere', 'name:ja': 'ベルヴェデーレ宮殿（上宮）', 'name:ru': 'Верхний Бельведер', 'name:zh': '美景宫', 'opening_hours': 'Mo-Su 08:00-18:00', 'operator': 'Österreichische Galerie Belvedere', 'toilets:wheelchair': 'yes', 'tourism': 'museum', 'website': 'https://www.belvedere.at/', 'wheelchair': 'yes', 'wikidata': 'Q4884861', 'wikipedia': 'en:Belvedere Palace Chapel'}\n",
      "Oberes Belvedere\n"
     ]
    }
   ],
   "source": [
    "print(type(way))\n",
    "\n",
    "print(way.tags())\n",
    "print(way.tag(\"name\"))"
   ]
  },
  {
   "cell_type": "code",
   "execution_count": 33,
   "metadata": {},
   "outputs": [
    {
     "name": "stderr",
     "output_type": "stream",
     "text": [
      "[overpass] downloading data: [timeout:25][out:json];way[\"name\"=\"Heidelberg\"]; out body;\n"
     ]
    }
   ],
   "source": [
    "result = overpass.query('way[\"name\"=\"Heidelberg\"]; out body;')"
   ]
  },
  {
   "cell_type": "code",
   "execution_count": null,
   "metadata": {},
   "outputs": [],
   "source": [
    "print( len(result.elements()))\n",
    "\n",
    "elements = result.elements()\n",
    "for element in elements:\n",
    "    print(element.tags())\n"
   ]
  }
 ],
 "metadata": {
  "interpreter": {
   "hash": "5c0372ed38b372118c24adb00d45654d76c8d10261533c5724e3f5fc1d75489a"
  },
  "kernelspec": {
   "display_name": "Python 3.8.10 64-bit",
   "language": "python",
   "name": "python3"
  },
  "language_info": {
   "codemirror_mode": {
    "name": "ipython",
    "version": 3
   },
   "file_extension": ".py",
   "mimetype": "text/x-python",
   "name": "python",
   "nbconvert_exporter": "python",
   "pygments_lexer": "ipython3",
   "version": "3.10.2"
  },
  "orig_nbformat": 4
 },
 "nbformat": 4,
 "nbformat_minor": 2
}
