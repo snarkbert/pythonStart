{
 "cells": [
  {
   "cell_type": "markdown",
   "metadata": {},
   "source": [
    "# OSM Experiments"
   ]
  },
  {
   "cell_type": "markdown",
   "metadata": {},
   "source": [
    "Get various entities using OSM API"
   ]
  },
  {
   "cell_type": "code",
   "execution_count": 2,
   "metadata": {},
   "outputs": [],
   "source": [
    "import gpxpy\n",
    "import gpxpy.gpx\n",
    "import numpy\n",
    "import OSMPythonTools\n",
    "import ssl\n",
    "ssl._create_default_https_context = ssl._create_unverified_context\n",
    "\n",
    "from OSMPythonTools.api import Api\n",
    "from OSMPythonTools.overpass import Overpass\n",
    "\n",
    "api = Api()\n",
    "overpass = Overpass()\n",
    "way = api.query('way/5887599')\n"
   ]
  },
  {
   "cell_type": "code",
   "execution_count": 3,
   "metadata": {},
   "outputs": [
    {
     "name": "stdout",
     "output_type": "stream",
     "text": [
      "<class 'OSMPythonTools.api.ApiResult'>\n",
      "{'architect': 'Johann Lucas von Hildebrandt', 'building': 'castle', 'castle_type': 'stately', 'castle_type:de': 'schloss', 'changing_table': 'yes', 'description:en': 'Baroque palace also housing a collection of Austrian & international paintings. Highlights: Gustav Klimt’s \"The Kiss\" and \"Judith\"', 'fee': 'yes', 'fixme': 'changing_table:location', 'historic': 'castle', 'name': 'Oberes Belvedere', 'name:de': 'Oberes Belvedere', 'name:en': 'Upper Belvedere', 'name:es': 'Alto Belvedere', 'name:ja': 'ベルヴェデーレ宮殿（上宮）', 'name:ru': 'Верхний Бельведер', 'name:zh': '美景宫', 'opening_hours': 'Mo-Su 08:00-18:00', 'operator': 'Österreichische Galerie Belvedere', 'toilets:wheelchair': 'yes', 'tourism': 'museum', 'website': 'https://www.belvedere.at/', 'wheelchair': 'yes', 'wikidata': 'Q4884861', 'wikipedia': 'en:Belvedere Palace Chapel'}\n",
      "Oberes Belvedere\n"
     ]
    }
   ],
   "source": [
    "print(type(way))\n",
    "\n",
    "print(way.tags())\n",
    "print(way.tag(\"name\"))"
   ]
  },
  {
   "cell_type": "code",
   "execution_count": 4,
   "metadata": {},
   "outputs": [],
   "source": [
    "result = overpass.query('way[\"name\"=\"Heidelberg\"]; out body;')"
   ]
  },
  {
   "cell_type": "code",
   "execution_count": 5,
   "metadata": {},
   "outputs": [
    {
     "name": "stdout",
     "output_type": "stream",
     "text": [
      "34\n",
      "{'highway': 'residential', 'name': 'Heidelberg'}\n",
      "{'highway': 'track', 'name': 'Heidelberg', 'surface': 'ground', 'tracktype': 'grade3'}\n",
      "{'highway': 'track', 'name': 'Heidelberg', 'surface': 'gravel', 'tracktype': 'grade3'}\n",
      "{'landuse': 'allotments', 'name': 'Heidelberg'}\n",
      "{'highway': 'residential', 'name': 'Heidelberg', 'surface': 'asphalt'}\n",
      "{'admin_level': '8', 'border_type': 'town', 'boundary': 'administrative', 'name': 'Heidelberg', 'place': 'town', 'source': 'TIGER/Line® 2008 Place Shapefiles (http://www.census.gov/geo/www/tiger/)', 'tiger:CLASSFP': 'C1', 'tiger:CPI': 'N', 'tiger:FUNCSTAT': 'A', 'tiger:LSAD': '43', 'tiger:MTFCC': 'G4110', 'tiger:NAME': 'Heidelberg', 'tiger:NAMELSAD': 'Heidelberg town', 'tiger:PCICBSA': 'N', 'tiger:PCINECTA': 'N', 'tiger:PLACEFP': '31420', 'tiger:PLACENS': '02405814', 'tiger:PLCIDFP': '2831420', 'tiger:STATEFP': '28', 'wikidata': 'Q2441982', 'wikipedia': 'en:Heidelberg, Mississippi'}\n",
      "{'highway': 'residential', 'name': 'Heidelberg'}\n",
      "{'highway': 'residential', 'lanes': '2', 'maxspeed': '50', 'name': 'Heidelberg'}\n",
      "{'landuse': 'industrial', 'name': 'Heidelberg'}\n",
      "{'landuse': 'residential', 'name': 'Heidelberg'}\n",
      "{'alt_name': 'Balfour - MTB', 'highway': 'track', 'name': 'Heidelberg', 'route': 'mtb', 'tracktype': 'grade3'}\n",
      "{'alt_name': 'Balfour - MTB', 'highway': 'track', 'name': 'Heidelberg', 'route': 'mtb', 'surface': 'gravel', 'tracktype': 'grade3'}\n",
      "{'alt_name': 'Balfour', 'highway': 'primary', 'maxspeed': '120', 'name': 'Heidelberg', 'ref': 'R23', 'route': 'mtb', 'surface': 'asphalt'}\n",
      "{'landuse': 'residential', 'maxspeed': '60', 'name': 'Heidelberg', 'source': 'Landsat'}\n",
      "{'highway': 'residential', 'maxspeed': '30', 'name': 'Heidelberg', 'surface': 'paving_stones'}\n",
      "{'highway': 'living_street', 'lanes': '1', 'maxspeed': '30', 'name': 'Heidelberg', 'surface': 'concrete'}\n",
      "{'highway': 'residential', 'maxspeed': '30', 'name': 'Heidelberg', 'surface': 'paving_stones'}\n",
      "{'foot': 'yes', 'highway': 'cycleway', 'name': 'Heidelberg', 'oneway': 'no', 'surface': 'paving_stones:30'}\n",
      "{'highway': 'residential', 'maxspeed': '30', 'name': 'Heidelberg', 'surface': 'paving_stones'}\n",
      "{'landuse': 'forest', 'leaf_cycle': 'deciduous', 'leaf_type': 'broadleaved', 'name': 'Heidelberg'}\n",
      "{'aeroway': 'aerodrome', 'icao': 'FAHG', 'licensed:sacaa': 'yes', 'name': 'Heidelberg', 'wikidata': 'Q12692981'}\n",
      "{'building': 'condominium', 'name': 'Heidelberg'}\n",
      "{'landuse': 'residential', 'name': 'Heidelberg'}\n",
      "{'addr:city': 'Ljubljana - Črnuče', 'addr:housenumber': '282', 'addr:postcode': '1231', 'addr:street': 'Tržaška cesta', 'building': 'yes', 'name': 'Heidelberg'}\n",
      "{'addr:city': 'San Isidro', 'addr:street': 'Avenida Dos de Mayo', 'building': 'yes', 'name': 'Heidelberg', 'office': 'company', 'source': 'Reconocimiento cartográfico de campo 2016 por KG'}\n",
      "{'addr:street': 'Aguairenda', 'building': 'yes', 'name': 'Heidelberg'}\n",
      "{'amenity': 'restaurant', 'building': 'yes', 'name': 'Heidelberg'}\n",
      "{'highway': 'residential', 'maxspeed': '50', 'name': 'Heidelberg', 'surface': 'paving_stones'}\n",
      "{'highway': 'residential', 'name': 'Heidelberg', 'surface': 'paving_stones'}\n",
      "{'highway': 'track', 'name': 'Heidelberg', 'surface': 'gravel', 'tracktype': 'grade3'}\n",
      "{'highway': 'track', 'name': 'Heidelberg', 'surface': 'grass', 'tracktype': 'grade3'}\n",
      "{'name': 'Heidelberg', 'natural': 'ridge', 'source': 'historical'}\n",
      "{'highway': 'residential', 'name': 'Heidelberg', 'surface': 'asphalt'}\n",
      "{'addr:postcode': '3084', 'addr:state': 'VIC', 'addr:street': 'Studley Road', 'addr:suburb': 'Heidelberg', 'area': 'yes', 'name': 'Heidelberg', 'network': 'PTV – Metropolitan Trains', 'operator': 'Metro Trains Melbourne', 'public_transport': 'station', 'railway': 'station', 'ref': 'HDB', 'ref:ptv': '19935', 'train': 'yes', 'website': 'https://ptv.vic.gov.au/stop/1093', 'wheelchair': 'yes', 'wikidata': 'Q5698739', 'wikipedia': 'en:Heidelberg railway station'}\n"
     ]
    }
   ],
   "source": [
    "print( len(result.elements()))\n",
    "\n",
    "elements = result.elements()\n",
    "for element in elements:\n",
    "    print(element.tags())\n"
   ]
  }
 ],
 "metadata": {
  "interpreter": {
   "hash": "5c0372ed38b372118c24adb00d45654d76c8d10261533c5724e3f5fc1d75489a"
  },
  "kernelspec": {
   "display_name": "Python 3.8.10 64-bit",
   "language": "python",
   "name": "python3"
  },
  "language_info": {
   "codemirror_mode": {
    "name": "ipython",
    "version": 3
   },
   "file_extension": ".py",
   "mimetype": "text/x-python",
   "name": "python",
   "nbconvert_exporter": "python",
   "pygments_lexer": "ipython3",
   "version": "3.8.10"
  },
  "orig_nbformat": 4
 },
 "nbformat": 4,
 "nbformat_minor": 2
}
